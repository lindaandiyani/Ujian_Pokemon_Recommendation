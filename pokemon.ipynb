{
 "cells": [
  {
   "cell_type": "code",
   "execution_count": 5,
   "metadata": {},
   "outputs": [],
   "source": [
    "import numpy as np\n",
    "import pandas as pd\n",
    "import warnings\n",
    "warnings.filterwarnings('ignore')\n",
    "import joblib\n",
    "import requests"
   ]
  },
  {
   "cell_type": "code",
   "execution_count": 13,
   "metadata": {},
   "outputs": [
    {
     "data": {
      "text/html": [
       "<div>\n",
       "<style scoped>\n",
       "    .dataframe tbody tr th:only-of-type {\n",
       "        vertical-align: middle;\n",
       "    }\n",
       "\n",
       "    .dataframe tbody tr th {\n",
       "        vertical-align: top;\n",
       "    }\n",
       "\n",
       "    .dataframe thead th {\n",
       "        text-align: right;\n",
       "    }\n",
       "</style>\n",
       "<table border=\"1\" class=\"dataframe\">\n",
       "  <thead>\n",
       "    <tr style=\"text-align: right;\">\n",
       "      <th></th>\n",
       "      <th>#</th>\n",
       "      <th>Name</th>\n",
       "      <th>Type 1</th>\n",
       "      <th>Type 2</th>\n",
       "      <th>Total</th>\n",
       "      <th>HP</th>\n",
       "      <th>Attack</th>\n",
       "      <th>Defense</th>\n",
       "      <th>Sp. Atk</th>\n",
       "      <th>Sp. Def</th>\n",
       "      <th>Speed</th>\n",
       "      <th>Generation</th>\n",
       "      <th>Legendary</th>\n",
       "    </tr>\n",
       "  </thead>\n",
       "  <tbody>\n",
       "    <tr>\n",
       "      <th>0</th>\n",
       "      <td>1</td>\n",
       "      <td>Bulbasaur</td>\n",
       "      <td>Grass</td>\n",
       "      <td>Poison</td>\n",
       "      <td>318</td>\n",
       "      <td>45</td>\n",
       "      <td>49</td>\n",
       "      <td>49</td>\n",
       "      <td>65</td>\n",
       "      <td>65</td>\n",
       "      <td>45</td>\n",
       "      <td>1</td>\n",
       "      <td>False</td>\n",
       "    </tr>\n",
       "    <tr>\n",
       "      <th>1</th>\n",
       "      <td>2</td>\n",
       "      <td>Ivysaur</td>\n",
       "      <td>Grass</td>\n",
       "      <td>Poison</td>\n",
       "      <td>405</td>\n",
       "      <td>60</td>\n",
       "      <td>62</td>\n",
       "      <td>63</td>\n",
       "      <td>80</td>\n",
       "      <td>80</td>\n",
       "      <td>60</td>\n",
       "      <td>1</td>\n",
       "      <td>False</td>\n",
       "    </tr>\n",
       "    <tr>\n",
       "      <th>2</th>\n",
       "      <td>3</td>\n",
       "      <td>Venusaur</td>\n",
       "      <td>Grass</td>\n",
       "      <td>Poison</td>\n",
       "      <td>525</td>\n",
       "      <td>80</td>\n",
       "      <td>82</td>\n",
       "      <td>83</td>\n",
       "      <td>100</td>\n",
       "      <td>100</td>\n",
       "      <td>80</td>\n",
       "      <td>1</td>\n",
       "      <td>False</td>\n",
       "    </tr>\n",
       "    <tr>\n",
       "      <th>3</th>\n",
       "      <td>3</td>\n",
       "      <td>VenusaurMega Venusaur</td>\n",
       "      <td>Grass</td>\n",
       "      <td>Poison</td>\n",
       "      <td>625</td>\n",
       "      <td>80</td>\n",
       "      <td>100</td>\n",
       "      <td>123</td>\n",
       "      <td>122</td>\n",
       "      <td>120</td>\n",
       "      <td>80</td>\n",
       "      <td>1</td>\n",
       "      <td>False</td>\n",
       "    </tr>\n",
       "    <tr>\n",
       "      <th>4</th>\n",
       "      <td>4</td>\n",
       "      <td>Charmander</td>\n",
       "      <td>Fire</td>\n",
       "      <td>NaN</td>\n",
       "      <td>309</td>\n",
       "      <td>39</td>\n",
       "      <td>52</td>\n",
       "      <td>43</td>\n",
       "      <td>60</td>\n",
       "      <td>50</td>\n",
       "      <td>65</td>\n",
       "      <td>1</td>\n",
       "      <td>False</td>\n",
       "    </tr>\n",
       "  </tbody>\n",
       "</table>\n",
       "</div>"
      ],
      "text/plain": [
       "   #                   Name Type 1  Type 2  Total  HP  Attack  Defense  \\\n",
       "0  1              Bulbasaur  Grass  Poison    318  45      49       49   \n",
       "1  2                Ivysaur  Grass  Poison    405  60      62       63   \n",
       "2  3               Venusaur  Grass  Poison    525  80      82       83   \n",
       "3  3  VenusaurMega Venusaur  Grass  Poison    625  80     100      123   \n",
       "4  4             Charmander   Fire     NaN    309  39      52       43   \n",
       "\n",
       "   Sp. Atk  Sp. Def  Speed  Generation  Legendary  \n",
       "0       65       65     45           1      False  \n",
       "1       80       80     60           1      False  \n",
       "2      100      100     80           1      False  \n",
       "3      122      120     80           1      False  \n",
       "4       60       50     65           1      False  "
      ]
     },
     "execution_count": 13,
     "metadata": {},
     "output_type": "execute_result"
    }
   ],
   "source": [
    "df = pd.read_csv('pokemon.csv')\n",
    "df.head()\n",
    "# df['Generation'].unique()"
   ]
  },
  {
   "cell_type": "code",
   "execution_count": 10,
   "metadata": {},
   "outputs": [
    {
     "data": {
      "text/plain": [
       "<Response [200]>"
      ]
     },
     "execution_count": 10,
     "metadata": {},
     "output_type": "execute_result"
    }
   ],
   "source": [
    "host = 'https://pokeapi.co/api/v2/'\n",
    "kategori ='/pokemon'\n",
    "\n",
    "url = host + kategori\n",
    "data = requests.get(url)\n",
    "# print(data.json()['/pokemon'])\n",
    "data"
   ]
  },
  {
   "cell_type": "code",
   "execution_count": 55,
   "metadata": {},
   "outputs": [
    {
     "data": {
      "text/plain": [
       "Name                         Haunter\n",
       "Type 1                         Ghost\n",
       "Generation                         1\n",
       "Legendary                  Legendary\n",
       "name                         haunter\n",
       "Generation2                      one\n",
       "kombi          Ghost??one??Legendary\n",
       "Name: 100, dtype: object"
      ]
     },
     "execution_count": 55,
     "metadata": {},
     "output_type": "execute_result"
    }
   ],
   "source": [
    "df = pd.read_csv('pokemon.csv')\n",
    "def Generation (x):\n",
    "    if x['Generation'] == 1:\n",
    "        return 'one'\n",
    "    elif x['Generation'] == 2:\n",
    "        return 'two'\n",
    "    elif x['Generation'] == 3:\n",
    "        return 'three'\n",
    "    elif x['Generation'] == 4:\n",
    "        return 'four'\n",
    "    elif x['Generation'] == 5:\n",
    "        return 'five'\n",
    "    elif x['Generation'] == 6:\n",
    "        return 'six'\n",
    "\n",
    "\n",
    "dfpoke = df[['Name', 'Type 1', 'Generation', 'Legendary']]\n",
    "\n",
    "dfpoke['name'] = df['Name'].apply(lambda x: x.lower())\n",
    "\n",
    "dfpoke['Legendary'] = df['Legendary'].apply(lambda x: 'Legendary' if True else 'Not Legend')\n",
    "\n",
    "dfpoke['Generation2'] = df.apply(Generation, axis =1)\n",
    "\n",
    "dfpoke['kombi'] = dfpoke['Type 1'] +'??' + dfpoke['Generation2'] + '??' + dfpoke ['Legendary']\n",
    "\n",
    "# ext = CountVectorizer(\n",
    "\n",
    "#     tokenizer = lambda x: x.split(','))\n",
    "\n",
    "# factors = ext.fit_transform(dfpoke['merge'])\n",
    "\n",
    "# cosscore = cosine_similarity(factors)\n",
    "dfpoke.head(10)\n",
    "dfpoke.iloc[100]"
   ]
  },
  {
   "cell_type": "code",
   "execution_count": null,
   "metadata": {},
   "outputs": [],
   "source": []
  },
  {
   "cell_type": "code",
   "execution_count": 35,
   "metadata": {},
   "outputs": [
    {
     "name": "stdout",
     "output_type": "stream",
     "text": [
      "['bug', 'dark', 'dragon', 'electric', 'fairy', 'fighting', 'fire', 'five', 'flying', 'four', 'ghost', 'grass', 'ground', 'ice', 'legendary', 'normal', 'one', 'poison', 'psychic', 'rock', 'six', 'steel', 'three', 'two', 'water']\n"
     ]
    }
   ],
   "source": [
    "from sklearn.feature_extraction.text import CountVectorizer\n",
    "\n",
    "ext = CountVectorizer(\n",
    "tokenizer= lambda x: x.split('??')\n",
    ")\n",
    "\n",
    "Kombi_Kat = ext.fit_transform(dfpoke['kombi'])\n",
    "\n",
    "print(ext.get_feature_names())"
   ]
  },
  {
   "cell_type": "code",
   "execution_count": 36,
   "metadata": {},
   "outputs": [
    {
     "data": {
      "text/plain": [
       "array([[0, 0, 0, ..., 0, 0, 0],\n",
       "       [0, 0, 0, ..., 0, 0, 0],\n",
       "       [0, 0, 0, ..., 0, 0, 0],\n",
       "       ...,\n",
       "       [0, 0, 0, ..., 0, 0, 0],\n",
       "       [0, 0, 0, ..., 0, 0, 0],\n",
       "       [0, 0, 0, ..., 0, 0, 0]], dtype=int64)"
      ]
     },
     "execution_count": 36,
     "metadata": {},
     "output_type": "execute_result"
    }
   ],
   "source": [
    "Kombi_Kat.toarray()"
   ]
  },
  {
   "cell_type": "code",
   "execution_count": 37,
   "metadata": {},
   "outputs": [],
   "source": [
    "from sklearn.metrics.pairwise import cosine_similarity"
   ]
  },
  {
   "cell_type": "code",
   "execution_count": 38,
   "metadata": {},
   "outputs": [],
   "source": [
    "Skor = cosine_similarity(Kombi_Kat)"
   ]
  },
  {
   "cell_type": "code",
   "execution_count": 58,
   "metadata": {},
   "outputs": [
    {
     "data": {
      "text/plain": [
       "[['bulbasaur', 'Grass', 'one', 'Legendary'],\n",
       " ['ivysaur', 'Grass', 'one', 'Legendary'],\n",
       " ['venusaur', 'Grass', 'one', 'Legendary'],\n",
       " ['venusaurmega venusaur', 'Grass', 'one', 'Legendary'],\n",
       " ['charmander', 'Fire', 'one', 'Legendary'],\n",
       " ['charmeleon', 'Fire', 'one', 'Legendary'],\n",
       " ['charizard', 'Fire', 'one', 'Legendary']]"
      ]
     },
     "execution_count": 58,
     "metadata": {},
     "output_type": "execute_result"
    }
   ],
   "source": [
    "pokeFav = \"Haunter\"\n",
    "FavIndex = dfpoke[dfpoke['Name'] == pokeFav].index[0]\n",
    "FavIndex\n",
    "\n",
    "pokeRec = list(enumerate(Skor[FavIndex]))\n",
    "# pokeRec\n",
    "\n",
    "pokeRec = list(filter(lambda x: x[1] > 0.5, pokeRec))\n",
    "pokeRec[0]\n",
    "Pack = []\n",
    "for i in pokeRec[:7]:\n",
    "    Data =[]\n",
    "    Data.append(dfpoke.iloc[i[0]]['name'])\n",
    "    Data.append(dfpoke.iloc[i[0]]['Type 1'])\n",
    "    Data.append(dfpoke.iloc[i[0]]['Generation2'])\n",
    "    Data.append(dfpoke.iloc[i[0]]['Legendary'])\n",
    "    Pack.append(Data)\n",
    "#     Data.append(Digi[i], Pic[i], Stage[i], Type[i], Attribue[i])\n",
    "Pack"
   ]
  },
  {
   "cell_type": "code",
   "execution_count": 59,
   "metadata": {},
   "outputs": [
    {
     "data": {
      "text/plain": [
       "['pokeJoblib']"
      ]
     },
     "execution_count": 59,
     "metadata": {},
     "output_type": "execute_result"
    }
   ],
   "source": [
    "joblib.dump(Skor, 'pokeJoblib')"
   ]
  },
  {
   "cell_type": "code",
   "execution_count": null,
   "metadata": {},
   "outputs": [],
   "source": []
  },
  {
   "cell_type": "code",
   "execution_count": null,
   "metadata": {},
   "outputs": [],
   "source": []
  }
 ],
 "metadata": {
  "kernelspec": {
   "display_name": "Python 3",
   "language": "python",
   "name": "python3"
  },
  "language_info": {
   "codemirror_mode": {
    "name": "ipython",
    "version": 3
   },
   "file_extension": ".py",
   "mimetype": "text/x-python",
   "name": "python",
   "nbconvert_exporter": "python",
   "pygments_lexer": "ipython3",
   "version": "3.8.0"
  }
 },
 "nbformat": 4,
 "nbformat_minor": 4
}
