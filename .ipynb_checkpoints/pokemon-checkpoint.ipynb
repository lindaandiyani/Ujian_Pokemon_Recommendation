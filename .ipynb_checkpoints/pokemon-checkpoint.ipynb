{
 "cells": [
  {
   "cell_type": "code",
   "execution_count": 58,
   "metadata": {},
   "outputs": [],
   "source": [
    "import numpy as np\n",
    "import pandas as pd\n",
    "import warnings\n",
    "warnings.filterwarnings('ignore')\n",
    "import joblib"
   ]
  },
  {
   "cell_type": "code",
   "execution_count": 3,
   "metadata": {},
   "outputs": [
    {
     "data": {
      "text/html": [
       "<div>\n",
       "<style scoped>\n",
       "    .dataframe tbody tr th:only-of-type {\n",
       "        vertical-align: middle;\n",
       "    }\n",
       "\n",
       "    .dataframe tbody tr th {\n",
       "        vertical-align: top;\n",
       "    }\n",
       "\n",
       "    .dataframe thead th {\n",
       "        text-align: right;\n",
       "    }\n",
       "</style>\n",
       "<table border=\"1\" class=\"dataframe\">\n",
       "  <thead>\n",
       "    <tr style=\"text-align: right;\">\n",
       "      <th></th>\n",
       "      <th>No</th>\n",
       "      <th>Digimon</th>\n",
       "      <th>Img Link</th>\n",
       "      <th>Stage</th>\n",
       "      <th>Type</th>\n",
       "      <th>Attribute</th>\n",
       "      <th>Memory</th>\n",
       "      <th>Equip Slots</th>\n",
       "      <th>HP</th>\n",
       "      <th>SP</th>\n",
       "      <th>Atk</th>\n",
       "      <th>Def</th>\n",
       "      <th>Int</th>\n",
       "      <th>Spd</th>\n",
       "    </tr>\n",
       "  </thead>\n",
       "  <tbody>\n",
       "    <tr>\n",
       "      <th>0</th>\n",
       "      <td>1</td>\n",
       "      <td>Kuramon</td>\n",
       "      <td>http://digidb.io/images/dot/dot629.png</td>\n",
       "      <td>Baby</td>\n",
       "      <td>Free</td>\n",
       "      <td>Neutral</td>\n",
       "      <td>2</td>\n",
       "      <td>0</td>\n",
       "      <td>590</td>\n",
       "      <td>77</td>\n",
       "      <td>79</td>\n",
       "      <td>69</td>\n",
       "      <td>68</td>\n",
       "      <td>95</td>\n",
       "    </tr>\n",
       "    <tr>\n",
       "      <th>1</th>\n",
       "      <td>2</td>\n",
       "      <td>Pabumon</td>\n",
       "      <td>http://digidb.io/images/dot/dot387.png</td>\n",
       "      <td>Baby</td>\n",
       "      <td>Free</td>\n",
       "      <td>Neutral</td>\n",
       "      <td>2</td>\n",
       "      <td>0</td>\n",
       "      <td>950</td>\n",
       "      <td>62</td>\n",
       "      <td>76</td>\n",
       "      <td>76</td>\n",
       "      <td>69</td>\n",
       "      <td>68</td>\n",
       "    </tr>\n",
       "    <tr>\n",
       "      <th>2</th>\n",
       "      <td>3</td>\n",
       "      <td>Punimon</td>\n",
       "      <td>http://digidb.io/images/dot/dot437.png</td>\n",
       "      <td>Baby</td>\n",
       "      <td>Free</td>\n",
       "      <td>Neutral</td>\n",
       "      <td>2</td>\n",
       "      <td>0</td>\n",
       "      <td>870</td>\n",
       "      <td>50</td>\n",
       "      <td>97</td>\n",
       "      <td>87</td>\n",
       "      <td>50</td>\n",
       "      <td>75</td>\n",
       "    </tr>\n",
       "    <tr>\n",
       "      <th>3</th>\n",
       "      <td>4</td>\n",
       "      <td>Botamon</td>\n",
       "      <td>http://digidb.io/images/dot/dot317.png</td>\n",
       "      <td>Baby</td>\n",
       "      <td>Free</td>\n",
       "      <td>Neutral</td>\n",
       "      <td>2</td>\n",
       "      <td>0</td>\n",
       "      <td>690</td>\n",
       "      <td>68</td>\n",
       "      <td>77</td>\n",
       "      <td>95</td>\n",
       "      <td>76</td>\n",
       "      <td>61</td>\n",
       "    </tr>\n",
       "    <tr>\n",
       "      <th>4</th>\n",
       "      <td>5</td>\n",
       "      <td>Poyomon</td>\n",
       "      <td>http://digidb.io/images/dot/dot320.png</td>\n",
       "      <td>Baby</td>\n",
       "      <td>Free</td>\n",
       "      <td>Neutral</td>\n",
       "      <td>2</td>\n",
       "      <td>0</td>\n",
       "      <td>540</td>\n",
       "      <td>98</td>\n",
       "      <td>54</td>\n",
       "      <td>59</td>\n",
       "      <td>95</td>\n",
       "      <td>86</td>\n",
       "    </tr>\n",
       "  </tbody>\n",
       "</table>\n",
       "</div>"
      ],
      "text/plain": [
       "   No  Digimon                                Img Link Stage  Type Attribute  \\\n",
       "0   1  Kuramon  http://digidb.io/images/dot/dot629.png  Baby  Free   Neutral   \n",
       "1   2  Pabumon  http://digidb.io/images/dot/dot387.png  Baby  Free   Neutral   \n",
       "2   3  Punimon  http://digidb.io/images/dot/dot437.png  Baby  Free   Neutral   \n",
       "3   4  Botamon  http://digidb.io/images/dot/dot317.png  Baby  Free   Neutral   \n",
       "4   5  Poyomon  http://digidb.io/images/dot/dot320.png  Baby  Free   Neutral   \n",
       "\n",
       "   Memory  Equip Slots   HP  SP  Atk  Def  Int  Spd  \n",
       "0       2            0  590  77   79   69   68   95  \n",
       "1       2            0  950  62   76   76   69   68  \n",
       "2       2            0  870  50   97   87   50   75  \n",
       "3       2            0  690  68   77   95   76   61  \n",
       "4       2            0  540  98   54   59   95   86  "
      ]
     },
     "execution_count": 3,
     "metadata": {},
     "output_type": "execute_result"
    }
   ],
   "source": [
    "df = pd.read_json('Digimon.json')\n",
    "df.head()"
   ]
  },
  {
   "cell_type": "code",
   "execution_count": 9,
   "metadata": {},
   "outputs": [],
   "source": [
    "df_data = df[['No', 'Digimon', 'Img Link', 'Stage', 'Type', 'Attribute']]\n",
    "df_data['Kombi'] = df['Stage'] + '??' + df['Type'] + '??' + df[\"Attribute\"]"
   ]
  },
  {
   "cell_type": "code",
   "execution_count": 10,
   "metadata": {},
   "outputs": [
    {
     "data": {
      "text/html": [
       "<div>\n",
       "<style scoped>\n",
       "    .dataframe tbody tr th:only-of-type {\n",
       "        vertical-align: middle;\n",
       "    }\n",
       "\n",
       "    .dataframe tbody tr th {\n",
       "        vertical-align: top;\n",
       "    }\n",
       "\n",
       "    .dataframe thead th {\n",
       "        text-align: right;\n",
       "    }\n",
       "</style>\n",
       "<table border=\"1\" class=\"dataframe\">\n",
       "  <thead>\n",
       "    <tr style=\"text-align: right;\">\n",
       "      <th></th>\n",
       "      <th>No</th>\n",
       "      <th>Digimon</th>\n",
       "      <th>Img Link</th>\n",
       "      <th>Stage</th>\n",
       "      <th>Type</th>\n",
       "      <th>Attribute</th>\n",
       "      <th>Kombi</th>\n",
       "    </tr>\n",
       "  </thead>\n",
       "  <tbody>\n",
       "    <tr>\n",
       "      <th>0</th>\n",
       "      <td>1</td>\n",
       "      <td>Kuramon</td>\n",
       "      <td>http://digidb.io/images/dot/dot629.png</td>\n",
       "      <td>Baby</td>\n",
       "      <td>Free</td>\n",
       "      <td>Neutral</td>\n",
       "      <td>Baby??Free??Neutral</td>\n",
       "    </tr>\n",
       "    <tr>\n",
       "      <th>1</th>\n",
       "      <td>2</td>\n",
       "      <td>Pabumon</td>\n",
       "      <td>http://digidb.io/images/dot/dot387.png</td>\n",
       "      <td>Baby</td>\n",
       "      <td>Free</td>\n",
       "      <td>Neutral</td>\n",
       "      <td>Baby??Free??Neutral</td>\n",
       "    </tr>\n",
       "    <tr>\n",
       "      <th>2</th>\n",
       "      <td>3</td>\n",
       "      <td>Punimon</td>\n",
       "      <td>http://digidb.io/images/dot/dot437.png</td>\n",
       "      <td>Baby</td>\n",
       "      <td>Free</td>\n",
       "      <td>Neutral</td>\n",
       "      <td>Baby??Free??Neutral</td>\n",
       "    </tr>\n",
       "    <tr>\n",
       "      <th>3</th>\n",
       "      <td>4</td>\n",
       "      <td>Botamon</td>\n",
       "      <td>http://digidb.io/images/dot/dot317.png</td>\n",
       "      <td>Baby</td>\n",
       "      <td>Free</td>\n",
       "      <td>Neutral</td>\n",
       "      <td>Baby??Free??Neutral</td>\n",
       "    </tr>\n",
       "    <tr>\n",
       "      <th>4</th>\n",
       "      <td>5</td>\n",
       "      <td>Poyomon</td>\n",
       "      <td>http://digidb.io/images/dot/dot320.png</td>\n",
       "      <td>Baby</td>\n",
       "      <td>Free</td>\n",
       "      <td>Neutral</td>\n",
       "      <td>Baby??Free??Neutral</td>\n",
       "    </tr>\n",
       "  </tbody>\n",
       "</table>\n",
       "</div>"
      ],
      "text/plain": [
       "   No  Digimon                                Img Link Stage  Type Attribute  \\\n",
       "0   1  Kuramon  http://digidb.io/images/dot/dot629.png  Baby  Free   Neutral   \n",
       "1   2  Pabumon  http://digidb.io/images/dot/dot387.png  Baby  Free   Neutral   \n",
       "2   3  Punimon  http://digidb.io/images/dot/dot437.png  Baby  Free   Neutral   \n",
       "3   4  Botamon  http://digidb.io/images/dot/dot317.png  Baby  Free   Neutral   \n",
       "4   5  Poyomon  http://digidb.io/images/dot/dot320.png  Baby  Free   Neutral   \n",
       "\n",
       "                 Kombi  \n",
       "0  Baby??Free??Neutral  \n",
       "1  Baby??Free??Neutral  \n",
       "2  Baby??Free??Neutral  \n",
       "3  Baby??Free??Neutral  \n",
       "4  Baby??Free??Neutral  "
      ]
     },
     "execution_count": 10,
     "metadata": {},
     "output_type": "execute_result"
    }
   ],
   "source": [
    "df_data.head()"
   ]
  },
  {
   "cell_type": "code",
   "execution_count": 19,
   "metadata": {},
   "outputs": [
    {
     "name": "stdout",
     "output_type": "stream",
     "text": [
      "['armor', 'baby', 'champion', 'dark', 'data', 'earth', 'electric', 'fire', 'free', 'in-training', 'light', 'mega', 'neutral', 'none', 'plant', 'rookie', 'ultimate', 'ultra', 'vaccine', 'virus', 'water', 'wind']\n"
     ]
    }
   ],
   "source": [
    "from sklearn.feature_extraction.text import CountVectorizer\n",
    "\n",
    "ext = CountVectorizer(\n",
    "tokenizer= lambda x: x.split('??')\n",
    ")\n",
    "\n",
    "Kombi_Kat = ext.fit_transform(df_data['Kombi'])\n",
    "\n",
    "print(ext.get_feature_names())"
   ]
  },
  {
   "cell_type": "code",
   "execution_count": 21,
   "metadata": {},
   "outputs": [
    {
     "data": {
      "text/plain": [
       "array([[0, 1, 0, ..., 0, 0, 0],\n",
       "       [0, 1, 0, ..., 0, 0, 0],\n",
       "       [0, 1, 0, ..., 0, 0, 0],\n",
       "       ...,\n",
       "       [0, 0, 0, ..., 0, 0, 0],\n",
       "       [0, 0, 0, ..., 0, 0, 0],\n",
       "       [0, 0, 0, ..., 1, 0, 0]], dtype=int64)"
      ]
     },
     "execution_count": 21,
     "metadata": {},
     "output_type": "execute_result"
    }
   ],
   "source": [
    "Kombi_Kat.toarray()"
   ]
  },
  {
   "cell_type": "code",
   "execution_count": 22,
   "metadata": {},
   "outputs": [],
   "source": [
    "from sklearn.metrics.pairwise import cosine_similarity"
   ]
  },
  {
   "cell_type": "code",
   "execution_count": 23,
   "metadata": {},
   "outputs": [],
   "source": [
    "Skor = cosine_similarity(Kombi_Kat)"
   ]
  },
  {
   "cell_type": "code",
   "execution_count": 61,
   "metadata": {},
   "outputs": [
    {
     "data": {
      "text/plain": [
       "[['Agumon',\n",
       "  'http://digidb.io/images/dot/dot050.png',\n",
       "  'Rookie',\n",
       "  'Vaccine',\n",
       "  'Fire'],\n",
       " ['Agumon (Blk)',\n",
       "  'http://digidb.io/images/dot/dot143.png',\n",
       "  'Rookie',\n",
       "  'Virus',\n",
       "  'Fire'],\n",
       " ['Gabumon',\n",
       "  'http://digidb.io/images/dot/dot151.png',\n",
       "  'Rookie',\n",
       "  'Data',\n",
       "  'Fire'],\n",
       " ['Gabumon (Blk)',\n",
       "  'http://digidb.io/images/dot/dot713.png',\n",
       "  'Rookie',\n",
       "  'Virus',\n",
       "  'Fire'],\n",
       " ['Guilmon',\n",
       "  'http://digidb.io/images/dot/dot090.png',\n",
       "  'Rookie',\n",
       "  'Virus',\n",
       "  'Fire'],\n",
       " ['Kudamon',\n",
       "  'http://digidb.io/images/dot/dot053.png',\n",
       "  'Rookie',\n",
       "  'Vaccine',\n",
       "  'Light'],\n",
       " ['Gomamon',\n",
       "  'http://digidb.io/images/dot/dot343.png',\n",
       "  'Rookie',\n",
       "  'Vaccine',\n",
       "  'Water']]"
      ]
     },
     "execution_count": 61,
     "metadata": {},
     "output_type": "execute_result"
    }
   ],
   "source": [
    "digiFav = \"Agumon\"\n",
    "FavIndex = df_data[df_data['Digimon'] == digiFav].index[0]\n",
    "FavIndex\n",
    "\n",
    "DigiRec = list(enumerate(Skor[FavIndex]))\n",
    "# DigiRec\n",
    "\n",
    "DigiRec = list(filter(lambda x: x[1] > 0.5, DigiRec))\n",
    "# DigiRec[0]\n",
    "\n",
    "Pack = []\n",
    "for i in DigiRec[:7]:\n",
    "    Data =[]\n",
    "    Data.append(df_data.iloc[i[0]]['Digimon'])\n",
    "    Data.append(df_data.iloc[i[0]]['Img Link'])\n",
    "    Data.append(df_data.iloc[i[0]]['Stage'])\n",
    "    Data.append(df_data.iloc[i[0]]['Type'])\n",
    "    Data.append(df_data.iloc[i[0]]['Attribute'])\n",
    "    Pack.append(Data)\n",
    "#     Data.append(Digi[i], Pic[i], Stage[i], Type[i], Attribue[i])\n",
    "Pack"
   ]
  },
  {
   "cell_type": "code",
   "execution_count": 60,
   "metadata": {},
   "outputs": [
    {
     "data": {
      "text/plain": [
       "['digiJoblib']"
      ]
     },
     "execution_count": 60,
     "metadata": {},
     "output_type": "execute_result"
    }
   ],
   "source": [
    "joblib.dump(Skor, 'digiJoblib')"
   ]
  },
  {
   "cell_type": "code",
   "execution_count": null,
   "metadata": {},
   "outputs": [],
   "source": []
  }
 ],
 "metadata": {
  "kernelspec": {
   "display_name": "Python 3",
   "language": "python",
   "name": "python3"
  },
  "language_info": {
   "codemirror_mode": {
    "name": "ipython",
    "version": 3
   },
   "file_extension": ".py",
   "mimetype": "text/x-python",
   "name": "python",
   "nbconvert_exporter": "python",
   "pygments_lexer": "ipython3",
   "version": "3.7.6"
  }
 },
 "nbformat": 4,
 "nbformat_minor": 4
}
